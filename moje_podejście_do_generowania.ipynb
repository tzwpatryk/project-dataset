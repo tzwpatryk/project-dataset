{
  "nbformat": 4,
  "nbformat_minor": 0,
  "metadata": {
    "colab": {
      "provenance": [],
      "gpuType": "T4"
    },
    "kernelspec": {
      "name": "python3",
      "display_name": "Python 3"
    },
    "language_info": {
      "name": "python"
    },
    "accelerator": "GPU"
  },
  "cells": [
    {
      "cell_type": "markdown",
      "source": [
        "# **Link do driva ze obrazkami:**\n",
        "[drive](https://drive.google.com/drive/folders/1lz0DJowtewvzcATP32UM0JThLu-wB2Q-?usp=drive_link)\n",
        "\n",
        "\n",
        "---\n",
        "\n",
        "Najlepszy  stosunek czasu generowania do jakości:\n",
        "\n",
        "[14s](https://drive.google.com/drive/folders/1OvsbGroJJ3tky7DC0dLPxfasYtkDYgI3?usp=drive_link) ~ \"misri/cyberrealisticXL_v11VAE\" + guidance_scale=6.0 + inference_steps=40 + DeepCache [cache_interval=3.0 + cache_branch=0.0]\n",
        "\n",
        "Ewentualnie:\n",
        "\n",
        "[35s](https://drive.google.com/drive/folders/14ViCTkZA4VshPot1yl8hXhIVPXCB69gE?usp=sharing) ~ \"misri/cyberrealisticXL_v11VAE\" + guidance_scale=6.0 + inference_steps=40\n",
        "\n",
        "[10,7s](https://drive.google.com/drive/folders/1A9KGM9yzB5OklU619hDdWy56SJneov_N?usp=drive_link) ~ \"misri/cyberrealisticXL_v11VAE\" + guidance_scale=5.0 + inference_steps=35 + DeepCache [cache_interval=4.0 + cache_branch=0.0]\n",
        "\n",
        "[1s](https://drive.google.com/drive/folders/1_bCy1AUXsFg_54idDnSHUokXYO_7ALjR?usp=drive_link) ~ \"stabilityai/sdxl-turbo\" + guidance_scale=0.0 + inference_steps=3\n",
        "\n"
      ],
      "metadata": {
        "id": "HbX7b5V-A2eQ"
      }
    },
    {
      "cell_type": "code",
      "execution_count": null,
      "metadata": {
        "id": "JVfZPpYYU95k"
      },
      "outputs": [],
      "source": [
        "!pip install -q diffusers transformers accelerate\n",
        "from diffusers import AutoPipelineForText2Image\n",
        "import torch\n",
        "import time\n",
        "import random\n",
        "import matplotlib.pyplot as plt"
      ]
    },
    {
      "cell_type": "markdown",
      "source": [
        "**Modele:**\n",
        "\n",
        "---\n",
        "**Najlepszy:**\n",
        "\n",
        "`\"misri/cyberrealisticXL_v11VAE\"`\n",
        "\n",
        "[CivitAi](https://civitai.com/models/15003/cyberrealistic)\n",
        "\n",
        "[Huggin Face](https://huggingface.co/misri/cyberrealisticXL_v11VAE)\n",
        "\n",
        "---\n",
        "\n",
        "***Eksperymentowałem jeszcze z:***\n",
        "\n",
        "`\"philz1337x/cyberrealistic-v4.2\"` - ten sam model tylko oparty na SD 1.5. Szybszy, ale znacznie gorsza jakość\n",
        "\n",
        "`\"stabilityai/sdxl-turbo\"` - zwykły turbo, zajebiście szybki ale nie potrafiłem wyciągnąć go na akceptowalną jakość\n",
        "\n"
      ],
      "metadata": {
        "id": "YFpVzG9Yqj5I"
      }
    },
    {
      "cell_type": "code",
      "source": [
        "model = \"misri/cyberrealisticXL_v11VAE\"\n",
        "pipeline_text2image = AutoPipelineForText2Image.from_pretrained(model, torch_dtype=torch.float16, variant=\"fp16\")\n",
        "pipeline_text2image = pipeline_text2image.to(\"cuda\")\n",
        "# use_safetensors=True"
      ],
      "metadata": {
        "id": "DDTwXn2NWbWD"
      },
      "execution_count": null,
      "outputs": []
    },
    {
      "cell_type": "markdown",
      "source": [
        "**Podpięcie Driva do zapisu obrazków**"
      ],
      "metadata": {
        "id": "VgnYxDDc18iO"
      }
    },
    {
      "cell_type": "code",
      "source": [
        "import os\n",
        "from google.colab import drive\n",
        "drive.mount('/gdrive')"
      ],
      "metadata": {
        "id": "4S-D8qGXygiZ",
        "colab": {
          "base_uri": "https://localhost:8080/"
        },
        "outputId": "c00467bc-0f67-49b1-84a6-9afe879b3c32"
      },
      "execution_count": 3,
      "outputs": [
        {
          "output_type": "stream",
          "name": "stdout",
          "text": [
            "Mounted at /gdrive\n"
          ]
        }
      ]
    },
    {
      "cell_type": "markdown",
      "source": [
        "**Parametry generowanych obrazków**"
      ],
      "metadata": {
        "id": "Z0c9EuVgl14g"
      }
    },
    {
      "cell_type": "code",
      "source": [
        "Object = \"Dog\" # Generowny obiekt\n",
        "\n",
        "breeds = [\"Golden Retriever\",\n",
        "          \"Bulldog\"]\n",
        "\n",
        "positions = [\"Sitting\",\n",
        "             \"Walking\",\n",
        "             \"Running\",\n",
        "             \"Sleeping\",\n",
        "             \"Standing\"]\n",
        "\n",
        "places = [\"City park\",\n",
        "          \"Beach\",\n",
        "          \"River\",\n",
        "          \"Forrest\",\n",
        "          \"Countryside\",\n",
        "          \"Mountains\",\n",
        "          \"Living room\",\n",
        "          \"Bedroom\",\n",
        "          \"Kitchen\",\n",
        "          \"Farmland\",\n",
        "          \"Snowy\",\n",
        "          \"Fall\",\n",
        "          \"Rainy\",\n",
        "          \"Windy\"]\n",
        "\n",
        "# Prompty\n",
        "rest_of_prompt = \"background, 8k, high quality, ultradetailed, ultrarealistic, colorful details, subsurface scattering, natural lighting, amazing composition, amazing textures,soft light, realistic background, realistic eyes, detailed eyes, detailed paws, detailed legs\"\n",
        "neg = \"worst quality, low quality, painting, anime, unrealistic, normal quality, lowres, low details, wrong numer of paw's phalanges, bad paws, bad iris, bad eyes, grayscale, humans, starfish, clothes, undetailed paws, scales, undetailed fur, unrealistic fur, wrong number of paws, undetailed tail, undetailed legs, other creatures, highly blured background, looking straight to camera, undetailed paws, too many paws, collar, harness, toys, ball, undetailed eyes, unrealistic eyes, bad anatomy, bad body, bad face, bad teeth, bad arms, wrong number of tails, blured eyes, bad legs, fantasy elements, wrong proportions, deformities:2.5\"\n",
        "\n",
        "# Najlepsze ustawienia:\n",
        "guidance_scale = 6.0\n",
        "inference_steps = 40\n",
        "cache_interval = 3.0\n",
        "cache_branch = 0.0"
      ],
      "metadata": {
        "id": "OwgNFeoCYvfx"
      },
      "execution_count": 4,
      "outputs": []
    },
    {
      "cell_type": "markdown",
      "source": [
        "**Funkcja do pokazywania 9 wygenerowanych obrazków**\n",
        "\n",
        "(przydatne w przypadku eksperymentowania z usatwieniami)"
      ],
      "metadata": {
        "id": "gssZKEjul_Rc"
      }
    },
    {
      "cell_type": "code",
      "source": [
        "def show9(images):\n",
        "  rows = 3\n",
        "  cols = 3\n",
        "  plt.figure(figsize=(10, 10))\n",
        "  for i, img in enumerate(images):\n",
        "      plt.subplot(rows, cols, i+1)\n",
        "      plt.imshow(img)\n",
        "      plt.axis('off')\n",
        "      if i >= (rows * cols) - 1:\n",
        "        break\n",
        "  plt.tight_layout()\n",
        "  plt.show()"
      ],
      "metadata": {
        "id": "jm3PY11Qimff"
      },
      "execution_count": 6,
      "outputs": []
    },
    {
      "cell_type": "markdown",
      "source": [
        "**Sposób na przyspieszenie generowania obrazków (DeepCache)**\n",
        "\n",
        "[Huggin Face - coś więcej o DeepCache](https://huggingface.co/docs/diffusers/main/en/optimization/deepcache)\n",
        "\n",
        "`cache_interval` - im wyższy tym niższa jakość, szybszy czas generowania\n",
        "\n",
        "`cache_branch_id` - im niższy tym niższa jakość, szybszy czas generowania\n",
        "\n",
        "Dla mnie najlepiej sprawdzały się parametry odpowiednio 3 i 0."
      ],
      "metadata": {
        "id": "1DkoBOYAx2xg"
      }
    },
    {
      "cell_type": "code",
      "source": [
        "!pip install DeepCache\n",
        "from DeepCache import DeepCacheSDHelper\n",
        "helper = DeepCacheSDHelper(pipe=pipeline_text2image)\n",
        "helper.set_params(\n",
        "    cache_interval=cache_interval,\n",
        "    cache_branch_id=cache_branch,\n",
        ")\n",
        "helper.enable()"
      ],
      "metadata": {
        "id": "mvpMu-PbWeXk"
      },
      "execution_count": null,
      "outputs": []
    },
    {
      "cell_type": "markdown",
      "source": [
        "**Generowanie obrazków**\n",
        "\n",
        "Zdjęcia generuje w ten sposób, że w prompcie zmienia się jedynie rasa `(breeds[x])`, pozycja w której znajduje się pies `(positions[y])` i miejsce w którym się znajduje `(places[random_numbers[y]])`.\n",
        "\n",
        "Dla każdej rasy psów jest generowane 5 zdjęć .\n",
        "Pierwsza pętla przechodzi po wszystkich rasach psów, druga po wszystkich pozycjach. Miejsca w których znajduje się pies, dla każdego promptu są losowo wybierane z listy. Wszystko po to aby data set miał jak największą róźnorodność obrazków."
      ],
      "metadata": {
        "id": "wpi94re5xtxv"
      }
    },
    {
      "cell_type": "markdown",
      "source": [
        "**Do eksperymentowania:**\n",
        "\n",
        "(na końcu wyświetla 9 z wygenerowanych obrazków i printuje informacje o czasie generowania)"
      ],
      "metadata": {
        "id": "zNsIum7Wrv8U"
      }
    },
    {
      "cell_type": "code",
      "source": [
        "images = []\n",
        "start_time = time.time()\n",
        "for x, breed in enumerate(breeds):\n",
        "  numbers = list(range(len(positions)))\n",
        "  random.shuffle(numbers)\n",
        "  random_numbers = numbers[:5]\n",
        "  for y, position in enumerate(positions):\n",
        "    prompt = f\"{Object}, {breeds[x]}, {positions[y]}, {places[random_numbers[y]]}, {rest_of_prompt}\"\n",
        "    image = pipeline_text2image(prompt=prompt, guidance_scale=guidance_scale, num_inference_steps=inference_steps, negative_prompt=neg).images[0]\n",
        "    images.append(image)\n",
        "end_time = time.time()\n",
        "print(f\"Czas wygenerowania {(breeds*positions)} obrazków: {end_time - start_time}\\nCzas wygenerowania jednego obrazka: {(end_time - start_time)/(breeds*positions)}\")\n",
        "\n",
        "show9(images)"
      ],
      "metadata": {
        "id": "ElvS9Sf_ZOWQ"
      },
      "execution_count": null,
      "outputs": []
    },
    {
      "cell_type": "markdown",
      "source": [
        "**Do masowego generowania:**\n",
        "\n",
        "(zapisuje zdjęcia oraz dane generowanych obrazków na drive, [przykład](https://drive.google.com/drive/folders/1da7myV42vxOh-Fx0V4oXxD1KvhykuoCN?usp=drive_link))"
      ],
      "metadata": {
        "id": "ctlXQuHFrz9W"
      }
    },
    {
      "cell_type": "code",
      "source": [
        "file_path = \"/gdrive/MyDrive/Projekt/Próba/\" # Miejsce zapisu plików\n",
        "file = open(f\"{file_path}Data - {Object}.txt\", 'w')\n",
        "file.writelines('torch_dtype=torch.float16, variant=\"fp16\", generated on \"cuda\"\\n') #\n",
        "file.writelines(f\"Model = {model}\\n\\nprompt = {rest_of_prompt}\\n\\nnegative_prompt = {neg}\\n\\nguidance_scale = {guidance_scale}\\nnum_inference_steps = {inference_steps}\\n\\n\")\n",
        "# Jeśli używa się DeepCache odkomentować ↓\n",
        "file.writelines(f\"DeepCache:\\ncache_interval = {cache_interval}\\ncache_branch_id = {cache_branch}\\n\\nObject: {Object}\\n\") #\n",
        "i=1\n",
        "start_time = time.time()\n",
        "\n",
        "for x, breed in enumerate(breeds):\n",
        "  numbers = list(range(len(positions)))\n",
        "  random.shuffle(numbers)\n",
        "  random_numbers = numbers[:5]\n",
        "  for y, position in enumerate(positions):\n",
        "    prompt = f\"{Object}, {breeds[x]}, {positions[y]}, {places[random_numbers[y]]}, {rest_of_prompt}\"\n",
        "    image = pipeline_text2image(prompt=prompt, guidance_scale=guidance_scale, num_inference_steps=inference_steps, negative_prompt=neg).images[0]\n",
        "    image.save(f\"{file_path}{Object} {i}.jpg\")\n",
        "    file.writelines(f\"{i} - {breeds[x]}, {positions[y]}, {places[random_numbers[y]]}\\n\")\n",
        "    i=i+1\n",
        "\n",
        "end_time = time.time()\n",
        "file.writelines(f\"\\nCzas wygenerowania {(len(breeds)*len(positions))} obrazków: {end_time - start_time}\\nCzas wygenerowania jednego obrazka: {(end_time - start_time)/(len(breeds)*len(positions))}\")\n",
        "file.close()"
      ],
      "metadata": {
        "id": "tC64V9Jur9Jb"
      },
      "execution_count": null,
      "outputs": []
    }
  ]
}